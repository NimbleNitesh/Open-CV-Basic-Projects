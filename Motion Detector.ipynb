{
 "cells": [
  {
   "cell_type": "code",
   "execution_count": 1,
   "id": "6414f1bc",
   "metadata": {},
   "outputs": [],
   "source": [
    "import cv2\n",
    "img=cv2.imread(\"Face.png\", 1)\n",
    "# cv2.imshow(\"Nitesh\", img)\n",
    "# cv2.waitKey()\n",
    "# cv2.destroyAllWindows()\n",
    "face_cascade=cv2.CascadeClassifier('haarcascade_frontalface_default.xml')\n",
    "gray_img=cv2.cvtColor(img, cv2.COLOR_BGR2GRAY)\n",
    "faces=face_cascade.detectMultiScale(gray_img, scaleFactor=1.05, minNeighbors=5)\n",
    "for x, y, w, h in faces:\n",
    "    img=cv2.rectangle(img, (x, y), (x+w, y+h), (0,0,255), 3)\n",
    "resized=cv2.resize(img, (int(img.shape[1]/2), int(img.shape[0]/2)))\n",
    "cv2.imshow(\"Face\", resized)\n",
    "cv2.waitKey(0)\n",
    "cv2.destroyAllWindows()"
   ]
  },
  {
   "cell_type": "code",
   "execution_count": 2,
   "id": "9553b62d",
   "metadata": {},
   "outputs": [
    {
     "name": "stdout",
     "output_type": "stream",
     "text": [
      "True\n"
     ]
    }
   ],
   "source": [
    "import cv2, time\n",
    "video=cv2.VideoCapture(0)\n",
    "check, frame=video.read()\n",
    "print(check)\n",
    "#print(frame)\n",
    "time.sleep(3)\n",
    "cv2.imshow('Capturing', frame)\n",
    "cv2.waitKey(0)\n",
    "video.release()\n",
    "cv2.destroyAllWindows()"
   ]
  },
  {
   "cell_type": "code",
   "execution_count": 3,
   "id": "5bc3ac89",
   "metadata": {},
   "outputs": [
    {
     "name": "stdout",
     "output_type": "stream",
     "text": [
      "244\n"
     ]
    }
   ],
   "source": [
    "import cv2, time\n",
    "video=cv2.VideoCapture(0)\n",
    "a=1\n",
    "while True:\n",
    "    a=a+1\n",
    "    check, frame=video.read()\n",
    "    #print(frame)\n",
    "    gray=cv2.cvtColor(frame, cv2.COLOR_BGR2GRAY)\n",
    "    cv2.imshow('Capturing', frame)\n",
    "    key=cv2.waitKey(1)\n",
    "    if key == ord('q'):\n",
    "        break;\n",
    "print(a)\n",
    "video.release()\n",
    "cv2.destroyAllWindows()"
   ]
  },
  {
   "cell_type": "code",
   "execution_count": 1,
   "id": "dce9274f",
   "metadata": {},
   "outputs": [
    {
     "name": "stdout",
     "output_type": "stream",
     "text": [
      "[datetime.datetime(2022, 11, 11, 16, 24, 16, 183765), datetime.datetime(2022, 11, 11, 16, 25, 3, 562947)]\n"
     ]
    },
    {
     "name": "stderr",
     "output_type": "stream",
     "text": [
      "C:\\Users\\Dell Vostro 3491\\AppData\\Local\\Temp\\ipykernel_13360\\3648336085.py:56: FutureWarning: The frame.append method is deprecated and will be removed from pandas in a future version. Use pandas.concat instead.\n",
      "  df=df.append({'Start': time[i], 'End':time[i+1]}, ignore_index=True)\n"
     ]
    }
   ],
   "source": [
    "import cv2, time\n",
    "import pandas as pd\n",
    "from datetime import datetime\n",
    "\n",
    "first_frame=None\n",
    "status_list=[None, None]\n",
    "time=[]\n",
    "df=pd.DataFrame(columns=['Start', 'End'])\n",
    "video=cv2.VideoCapture(0)\n",
    "while True:\n",
    "    check, frame=video.read()\n",
    "    #status at the begining of recording is zero as the object is not visible\n",
    "    status=0\n",
    "    #print(frame)\n",
    "    gray=cv2.cvtColor(frame, cv2.COLOR_BGR2GRAY)\n",
    "    gray=cv2.GaussianBlur(gray, (21, 21), 0)\n",
    "    if first_frame is None:\n",
    "        first_frame=gray\n",
    "        #time.append(datetime.now())\n",
    "        continue\n",
    "    #calculate the difference b/w first frame and other frame\n",
    "    delta_frame=cv2.absdiff(first_frame, gray)\n",
    "    #Provides a threshold value such that it will convert the difference value with less than 30 to black, otherwise white\n",
    "    thresh_delta=cv2.threshold(delta_frame, 30, 255, cv2.THRESH_BINARY)[1]\n",
    "    thresh_delta=cv2.dilate(thresh_delta, None, iterations=0)\n",
    "    #Define contour area, basically add the border\n",
    "    (cnts,_)=cv2.findContours(thresh_delta.copy(), cv2.RETR_EXTERNAL, cv2.CHAIN_APPROX_SIMPLE)\n",
    "    for contour in cnts:\n",
    "        #removes noises and shadows.\n",
    "        #Basically it will keep only that part white, which has area greater than 1000 pixels.\n",
    "        if cv2.contourArea(contour)<1000:\n",
    "            continue\n",
    "        #Change in status when the object is being detected\n",
    "        status=1\n",
    "        #Create a rectangular box around object of frame\n",
    "        (x, y, w, h)=cv2.boundingRect(contour)\n",
    "        cv2.rectangle(frame, (x, y), (x+w, y+h), (0,0,255), 3)\n",
    "    status_list.append(status)\n",
    "    status_list=status_list[-2:]\n",
    "    if status_list[-1]==1 and status_list[-2]==0:\n",
    "        time.append(datetime.now())\n",
    "    if status_list[-1]==0 and status_list[-2]==1:\n",
    "        time.append(datetime.now())\n",
    "    cv2.imshow('frame',frame)\n",
    "#     cv2.imshow('gray',gray)\n",
    "#     cv2.imshow('delta_frame',delta_frame)\n",
    "#     cv2.imshow('thresh_delta',thresh_delta)\n",
    "    key=cv2.waitKey(1)\n",
    "    if key == ord('q'):\n",
    "        if status == 1:\n",
    "            time.append(datetime.now())\n",
    "        break\n",
    "print(time)\n",
    "#print('\\n')\n",
    "for i in range(0, len(time), 2):\n",
    "    df=df.append({'Start': time[i], 'End':time[i+1]}, ignore_index=True)\n",
    "df.to_csv('Times.csv')\n",
    "video.release()\n",
    "cv2.destroyAllWindows()"
   ]
  }
 ],
 "metadata": {
  "kernelspec": {
   "display_name": "Python 3 (ipykernel)",
   "language": "python",
   "name": "python3"
  },
  "language_info": {
   "codemirror_mode": {
    "name": "ipython",
    "version": 3
   },
   "file_extension": ".py",
   "mimetype": "text/x-python",
   "name": "python",
   "nbconvert_exporter": "python",
   "pygments_lexer": "ipython3",
   "version": "3.10.6"
  }
 },
 "nbformat": 4,
 "nbformat_minor": 5
}
